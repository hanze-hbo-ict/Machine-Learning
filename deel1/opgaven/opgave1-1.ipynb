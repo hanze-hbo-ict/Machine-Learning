{
 "cells": [
  {
   "cell_type": "markdown",
   "id": "dab7f734",
   "metadata": {},
   "source": [
    "# Introductie Jupyter Notebook en Scikit-learn"
   ]
  },
  {
   "cell_type": "markdown",
   "id": "1b90e884",
   "metadata": {},
   "source": []
  },
  {
   "cell_type": "markdown",
   "id": "0d908baf",
   "metadata": {},
   "source": [
    "Zoals tijdens het theoriecollege is toegelicht, maken we in deze cursus vaak gebruik van Jupyter Notebooks, een feitelijke standaard voor het *rapid prototyping* van machine learning projecten. Het grote voordeel van notebooks is dat je de documentatie (in [markdown](https://www.markdownguide.org/)) direct tussen je runbare code hebt staan. Hoewel oorspronkelijk ontwikkeld voor Python zijn er inmiddels voor de meeste talen kernels ontwikkeld, zodat je ook Java, Go of PHP in notebooks kunt schrijven."
   ]
  },
  {
   "cell_type": "markdown",
   "id": "9d9f3198",
   "metadata": {},
   "source": [
    "Een tweede stap die we gaan zetten is het gebruikmaken van een bibliotheek om het zware werk voor ons over te nemen: [scikit learn](https://scikit-learn.org/stable/index.html). In de volgende twee opgaven gaan we alle code zelf uitprogrammeren (met python en numpyr), maar in het echt maak je gebruik van deze bibliotheek: die is sneller en makkelijker en stelt je in staat om je te richten op het maken en beoordelen van modellen in plaats van het goed laten werken van feitelijk vrij triviale programmacode."
   ]
  },
  {
   "cell_type": "markdown",
   "id": "16bfbbf2",
   "metadata": {},
   "source": [
    "Eén van de voordelen van sklearn is dat de meest gebruikte datasets [standaard in deze bibliotheek](https://scikit-learn.org/stable/datasets.html) zitten. Veel van de voorbeelden waar we de komende weken mee gaan werken, zul je hierin terugvinden."
   ]
  },
  {
   "cell_type": "markdown",
   "id": "c64d7ac8",
   "metadata": {},
   "source": [
    "In deze opgave maken we gebruik van de [California Housing dataset](https://www.kaggle.com/datasets/camnugent/california-housing-prices). Run de volgende cel om de methode te importeren die deze dataset kan laden. Bestudeer [de documentatie](https://scikit-learn.org/stable/datasets/real_world.html#california-housing-dataset) om te weten te komen wat er in deze dataset is opgeslagen en hoe je vervolgens de data daadwerkelijk laadt. "
   ]
  },
  {
   "cell_type": "code",
   "execution_count": null,
   "id": "a674117c",
   "metadata": {},
   "outputs": [],
   "source": [
    "# https://stackoverflow.com/a/49174340\n",
    "# Haal de onderstaande regels uit het commentaar als je SSL-errors krijgt:\n",
    "# import ssl\n",
    "# ssl._create_default_https_context = ssl._create_unverified_context\n",
    "from sklearn.datasets import fetch_california_housing\n",
    "import matplotlib.pyplot as plt\n",
    "import numpy as np"
   ]
  },
  {
   "cell_type": "markdown",
   "id": "8017dcc5",
   "metadata": {},
   "source": [
    "# Opdracht 1: data laden en inspecteren"
   ]
  },
  {
   "cell_type": "markdown",
   "id": "be127fee",
   "metadata": {},
   "source": [
    "Gebruik de onderstaande cel om de methode `fetch_california_housing` aan te roepen. Mocht je bij het laden SSL-errors krijgen, probeer dan de eerste regel in de bovenstaande cel uit het commentaar te halen en run die cel nogmaals. Gebruik `feature_names` om de namen van de eigenschappen van de dataset te weten te komen. Zorg ervoor dat je de *data* van het resultaat in een variabele `X` zet, en de *target* in een variabele `y`."
   ]
  },
  {
   "cell_type": "code",
   "execution_count": null,
   "id": "ed649361",
   "metadata": {},
   "outputs": [],
   "source": [
    "# YOUR CODE HERE\n"
   ]
  },
  {
   "cell_type": "markdown",
   "id": "89a3eea3",
   "metadata": {},
   "source": [
    "Zoals altijd maken we ook een paar visualisaties van de data om een beeld te krijgen van wat er zoal in zit. We beginnen met een scatter-plot; alleen dit keer plotten we niet de $y$-vector tegen een eigenschap uit de $X$-matrix; omdat we weten dat we te maken hebben met geografische data, is het leuker om de lengte- en breedtegraden tegenover elkaar te plotten. Maar gebruik van [`matplotlib.pyplot.scatter`](https://matplotlib.org/stable/api/_as_gen/matplotlib.pyplot.scatter.html) om deze twee gegevens (*Longitude* en *Latitude*, respectievelijk) te plotten.\n",
    "Als je het goed hebt gedaan, kun je in de resulterende plot de kustlijn van Californië herkennen."
   ]
  },
  {
   "cell_type": "code",
   "execution_count": null,
   "id": "4b4bfc6a",
   "metadata": {},
   "outputs": [],
   "source": [
    "#YOUR CODE HERE\n"
   ]
  },
  {
   "cell_type": "markdown",
   "id": "75334c28",
   "metadata": {},
   "source": [
    "Zoals je in de documentatie hebt gelezen, is de target-value de gemiddelde waarde van de huizen in die omgeving, uitgedrukt in honderdduizend dollar. Natuurlijk moeten we wat statistieken uit deze target-vector halen. Vul onderstaande cel aan, zodat de juiste waarden worden afgedrukt. Vervolgens ga je gebruikmaken van [pyplot.hist](https://matplotlib.org/stable/api/_as_gen/matplotlib.pyplot.hist.html) om een histogram van deze data te plotten. Beargumenteer op basis van de statistische gegevens in hoeveel `bins` je dit histogram zou willen onderverdelen."
   ]
  },
  {
   "cell_type": "code",
   "execution_count": null,
   "id": "105625e5",
   "metadata": {},
   "outputs": [],
   "source": [
    "# YOUR CODE HERE\n",
    "# Vervang '0' door de juiste code. Tip: numpy (np) biedt hiervoor de juiste mogelijkheden\n",
    "min_value = 0\n",
    "max_value = 0\n",
    "stdev = 0\n",
    "gemiddelde = 0\n",
    "\n",
    "print ('==== DATA UIT DE TARGET-VECTOR ====')\n",
    "print (f'Gemiddelde: {gemiddelde:>10.2f}')\n",
    "print (f'Minimum: {min_value:>10.2f}')\n",
    "print (f'Maximum: {max_value:>10.2f}')\n",
    "print (f'StdDev: {stdev:>10.2f}')\n"
   ]
  },
  {
   "cell_type": "markdown",
   "id": "7a1685b0",
   "metadata": {},
   "source": [
    "Een belangrijke stap om een beeld te krijgen van de data in de set is door gebruik te maken van een [histogram](https://nl.wikipedia.org/wiki/Histogram). Eén van de belangrijke vragen daarbij is in hoeveel `bins` je de data moet verdelen. Daarvoor zijn grofweg twee methoden: [Sturge's Rule](https://www.statology.org/sturges-rule/) en [Freedman-Diaconis rule](). Bestudeer [deze blog hierover](https://medium.datadriveninvestor.com/how-to-decide-on-the-number-of-bins-of-a-histogram-3c36dc5b1cd8) maak beide histogrammen. Let op dat het aantal `bins` een *geheel getal* moet zijn.\n",
    "\n",
    "Als het goed is, kom je in het eerste geval op 16 `bins` en in het tweede geval op 46. Welke van beide histogrammen vind je beter en waarom?"
   ]
  },
  {
   "cell_type": "code",
   "execution_count": null,
   "id": "5ac6e457",
   "metadata": {},
   "outputs": [],
   "source": [
    "# histogram met Sturge's Rule\n",
    "m,n = X.shape\n",
    "\n",
    "# YOUR CODE HERE\n"
   ]
  },
  {
   "cell_type": "code",
   "execution_count": null,
   "id": "418d60ff",
   "metadata": {},
   "outputs": [],
   "source": [
    "# histogram met Freedman-Diaconis rule\n",
    "m,n = X.shape\n",
    "\n",
    "# YOUR CODE HERE\n"
   ]
  },
  {
   "cell_type": "markdown",
   "id": "5fcc355d",
   "metadata": {},
   "source": [
    "## Opdracht 2: Lineaire regressie"
   ]
  },
  {
   "cell_type": "markdown",
   "id": "f2e520a9",
   "metadata": {},
   "source": [
    "Nu gaan we de *features* van deze dataset gebruiken om een voorspelling te doen van de waarde van een huis. We gaan in de volgende opgave de wiskunde helemaal zelf uitprogrammeren, zodat je weet wat er exact gebeurt. Vooralsnog maken we gebruik van ['sklearn.linear_model.linear_regression'](https://scikit-learn.org/stable/modules/generated/sklearn.linear_model.LinearRegression.html)."
   ]
  },
  {
   "cell_type": "markdown",
   "id": "2ed8f6ff",
   "metadata": {},
   "source": [
    "Verdeel de data in 20% testdata en 80% trainingsdata. Maak hiervoor gebruik van [`train_test_split`](https://scikit-learn.org/dev/modules/generated/sklearn.model_selection.train_test_split.html). Laad de data opnieuw in met de parameter `return_X_y` op `True`, zodat je direct de *features* en de corresponderende *targets* hebt. Waarom is deze split ook al weer nodig?"
   ]
  },
  {
   "cell_type": "markdown",
   "id": "219986c5",
   "metadata": {},
   "source": [
    "Gebruik vervolgens de methode [`fit`](https://scikit-learn.org/stable/modules/generated/sklearn.linear_model.LinearRegression.html#sklearn.linear_model.LinearRegression.fit) om het model te trainen. "
   ]
  },
  {
   "cell_type": "code",
   "execution_count": null,
   "id": "830c2a1b",
   "metadata": {},
   "outputs": [],
   "source": [
    "from sklearn.model_selection import train_test_split\n",
    "from sklearn.linear_model import LinearRegression\n",
    "#YOUR CODE HERE\n"
   ]
  },
  {
   "cell_type": "markdown",
   "id": "524924a4",
   "metadata": {},
   "source": [
    "Gebruik nu de methode [`predict`](https://scikit-learn.org/stable/modules/generated/sklearn.linear_model.LinearRegression.html#sklearn.linear_model.LinearRegression.predict) om op basis van de test-data een uitspraak te doen over hoe goed het model presteert. Gebruik hiervoor de methode [`mean_square_error`](https://scikit-learn.org/stable/modules/generated/sklearn.metrics.mean_squared_error.html) uit `sklearn.metrics`. Hoe vind je dat het model presteert? Wat zou je kunnen doen om het model te verbeteren?"
   ]
  },
  {
   "cell_type": "code",
   "execution_count": null,
   "id": "9946a4a1",
   "metadata": {},
   "outputs": [],
   "source": [
    "from sklearn.metrics import mean_squared_error\n",
    "#YOUR CODE HERE\n"
   ]
  },
  {
   "cell_type": "markdown",
   "id": "637a9041",
   "metadata": {},
   "source": [
    "Bestudeer tenslotte met behulp van het `coef_`-attribuut van het getrainde model om te weten te komen wat de formule is die het model gebruikt. Welke features zijn het belangrijkst en welke minder?"
   ]
  },
  {
   "cell_type": "code",
   "execution_count": null,
   "id": "e88af6ae",
   "metadata": {},
   "outputs": [],
   "source": [
    "#YOUR CODE HERE\n"
   ]
  },
  {
   "cell_type": "code",
   "execution_count": null,
   "id": "2db3ca6c",
   "metadata": {},
   "outputs": [],
   "source": []
  }
 ],
 "metadata": {
  "kernelspec": {
   "display_name": "Python 3",
   "language": "python",
   "name": "python3"
  },
  "language_info": {
   "codemirror_mode": {
    "name": "ipython",
    "version": 3
   },
   "file_extension": ".py",
   "mimetype": "text/x-python",
   "name": "python",
   "nbconvert_exporter": "python",
   "pygments_lexer": "ipython3",
   "version": "3.8.8"
  }
 },
 "nbformat": 4,
 "nbformat_minor": 5
}
