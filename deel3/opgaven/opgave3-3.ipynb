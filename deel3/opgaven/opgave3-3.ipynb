{
 "cells": [
  {
   "cell_type": "markdown",
   "id": "98441deb",
   "metadata": {},
   "source": [
    "# Opgave DBSCAN"
   ]
  },
  {
   "cell_type": "markdown",
   "id": "fde54c84",
   "metadata": {},
   "source": [
    "In deze opgave gaan we voor de verandering werken met de iris-dataset. We hebben hiervoor gekozen omdat het een fijne kleine en overzichtelijke dataset is en omdat deze inmiddels al voldoende is toegelicht."
   ]
  },
  {
   "cell_type": "markdown",
   "id": "54a75927",
   "metadata": {},
   "source": [
    "Omdat we nu unsupervised te werk gaan, maken we geen gebruik van de `y`-vector. We willen kijken of we een [DBSCAN-model](https://scikit-learn.org/stable/modules/clustering.html#dbscan) kunnen maken dat de data in verschillende klassen kan classificeren. Om deze classificatie inzichtelijk te maken, hebben we een hulpfunctie `plot_dbscan` gemaakt, die je hieronder ziet staan. Bestudeer eventueel deze code om een beeld te krijgen van hoe hij werkt en wat de bedoeling is."
   ]
  },
  {
   "cell_type": "markdown",
   "id": "8b29a504",
   "metadata": {},
   "source": [
    "Run de onderstaande cel om de noodzakelijke imports uit te voeren."
   ]
  },
  {
   "cell_type": "code",
   "execution_count": 8,
   "id": "30573311",
   "metadata": {},
   "outputs": [],
   "source": [
    "from sklearn.datasets import load_iris\n",
    "from sklearn.cluster import DBSCAN\n",
    "import numpy as np\n",
    "import matplotlib.pyplot as plt"
   ]
  },
  {
   "cell_type": "markdown",
   "id": "865c64f7",
   "metadata": {},
   "source": [
    "Run de onderstaande cel om de methode `plot_dbscan` te definiëren."
   ]
  },
  {
   "cell_type": "code",
   "execution_count": 120,
   "id": "7da8a207",
   "metadata": {},
   "outputs": [],
   "source": [
    "def plot_dbscan(model, X, **labels):\n",
    "    core_mask = np.zeros_like(model.labels_, dtype=bool)\n",
    "    core_mask[model.core_sample_indices_] = True\n",
    "    anomalies_mask = model.labels_ == -1\n",
    "    non_core_mask = ~(core_mask | anomalies_mask)\n",
    "\n",
    "    cores = model.components_\n",
    "    anomalies = X[anomalies_mask]\n",
    "    non_cores = X[non_core_mask]\n",
    "    \n",
    "    plt.scatter(cores[:, 0], cores[:, 1], c=model.labels_[core_mask], marker='o', s=100, cmap=\"Paired\")\n",
    "    plt.scatter(cores[:, 0], cores[:, 1], c=model.labels_[core_mask], marker='^', s=20, label='klasse')\n",
    "    plt.scatter(anomalies[:, 0], anomalies[:, 1], c=\"r\", marker=\"x\", s=100, label='uitbijter')\n",
    "    plt.scatter(non_cores[:, 0], non_cores[:, 1], c=model.labels_[non_core_mask], marker=\".\", label='non-core')\n",
    "    \n",
    "    x_str = '$x_1$' if not 'xlabel' in labels else labels['xlabel']\n",
    "    y_str = '$x_2$' if not 'ylabel' in labels else labels['ylabel']\n",
    "    plt.xlabel(x_str, fontsize=14)\n",
    "    plt.ylabel(y_str, fontsize=14)\n",
    "    plt.legend()\n",
    "    plt.title(f\"eps={model.eps:.2f}, min_samples={model.min_samples}\", fontsize=14)"
   ]
  },
  {
   "cell_type": "markdown",
   "id": "e2756703",
   "metadata": {},
   "source": [
    "Laad de iris-dataset van uit `sklearn-datasets`. Zoals tijdens het theoriecollege is toegelicht zijn &epsilon; (`eps`) en het aantal samples in de omgeving van het gekozen datapunt de belangrijkste parameters van DBSCAN. Maak verschillende modellen met (in ieder geval) de onderstaande waarden voor deze parameters. Maak telkens een plot en registreer het aantal klassen, uitbijters en non-core observaties.\n",
    "\n",
    "```\n",
    "  min_samples: [3, 4, 5, 7, 9]\n",
    "  eps{ [.1, .4, .55, .6, 1, 2]\n",
    "```"
   ]
  },
  {
   "cell_type": "markdown",
   "id": "316a791f",
   "metadata": {},
   "source": [
    "Maak vervolgens een interessante visualisatie van deze gegevens om inzichtelijk te krijgen wat de effecten van de verschillende waarden voor deze parameters zijn. Kun je verklaren wat er gebeurt?"
   ]
  },
  {
   "cell_type": "code",
   "execution_count": null,
   "id": "edb1fa61",
   "metadata": {},
   "outputs": [],
   "source": [
    "from sklearn.datasets import load_iris\n",
    "\n",
    "# Your code here"
   ]
  }
 ],
 "metadata": {
  "kernelspec": {
   "display_name": "Python 3 (ipykernel)",
   "language": "python",
   "name": "python3"
  },
  "language_info": {
   "codemirror_mode": {
    "name": "ipython",
    "version": 3
   },
   "file_extension": ".py",
   "mimetype": "text/x-python",
   "name": "python",
   "nbconvert_exporter": "python",
   "pygments_lexer": "ipython3",
   "version": "3.10.1"
  }
 },
 "nbformat": 4,
 "nbformat_minor": 5
}
