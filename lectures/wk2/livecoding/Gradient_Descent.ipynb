{
 "cells": [
  {
   "cell_type": "code",
   "execution_count": null,
   "id": "c93f32e9",
   "metadata": {},
   "outputs": [],
   "source": [
    "import numpy as np\n",
    "import matplotlib.pyplot as plt"
   ]
  },
  {
   "cell_type": "markdown",
   "id": "976cda26",
   "metadata": {},
   "source": [
    "# Eerst wat matrix- en vector-bewerkingen, zoals vermenigvuldiging"
   ]
  },
  {
   "cell_type": "code",
   "execution_count": null,
   "id": "c71dfef8",
   "metadata": {},
   "outputs": [],
   "source": [
    "a = np.array([[1, 3, 2], [4, 0, 1]]) # matrix\n",
    "a.shape"
   ]
  },
  {
   "cell_type": "code",
   "execution_count": null,
   "id": "3f988258",
   "metadata": {},
   "outputs": [],
   "source": [
    "b = np.array([1, 0, 5]) # vector\n",
    "b.shape"
   ]
  },
  {
   "cell_type": "code",
   "execution_count": null,
   "id": "0d8e375f",
   "metadata": {},
   "outputs": [],
   "source": [
    "b = np.array([[1, 0, 5]]) # forceer 2 dimensies, optie 1\n",
    "b.shape"
   ]
  },
  {
   "cell_type": "code",
   "execution_count": null,
   "id": "4feb2d1c",
   "metadata": {},
   "outputs": [],
   "source": [
    "b = np.array([1, 0, 5], ndmin=2) # forceer 2 dimensies, optie 2\n",
    "b.shape"
   ]
  },
  {
   "cell_type": "code",
   "execution_count": null,
   "id": "d77bdfaf",
   "metadata": {},
   "outputs": [],
   "source": [
    "b = b.T\n",
    "b.shape"
   ]
  },
  {
   "cell_type": "code",
   "execution_count": null,
   "id": "f243e1a1",
   "metadata": {},
   "outputs": [],
   "source": [
    "a * 2"
   ]
  },
  {
   "cell_type": "code",
   "execution_count": null,
   "id": "9831fa29",
   "metadata": {},
   "outputs": [],
   "source": [
    "a ** 2"
   ]
  },
  {
   "cell_type": "code",
   "execution_count": null,
   "id": "9c5516f3",
   "metadata": {},
   "outputs": [],
   "source": [
    "# Element-wise vermenigvuldigen\n",
    "c = np.array([[1, 2, 3], [1, 2, 3]]) # zelfde dimensies als a\n",
    "a * c"
   ]
  },
  {
   "cell_type": "code",
   "execution_count": null,
   "id": "6241f7c8",
   "metadata": {},
   "outputs": [],
   "source": [
    "# Dimensies moeten wel overeenkomen\n",
    "a * b"
   ]
  },
  {
   "cell_type": "code",
   "execution_count": null,
   "id": "aaf8ab95",
   "metadata": {},
   "outputs": [],
   "source": [
    "# Matrix-vermenigvuldiging, optie 1\n",
    "np.dot(a, b)"
   ]
  },
  {
   "cell_type": "code",
   "execution_count": null,
   "id": "ae02e840",
   "metadata": {},
   "outputs": [],
   "source": [
    "# Matrix-vermenigvuldiging, optie 2\n",
    "np.matmul(a, b)"
   ]
  },
  {
   "cell_type": "code",
   "execution_count": null,
   "id": "b6b5969a",
   "metadata": {},
   "outputs": [],
   "source": [
    "# Matrix-vermenigvuldiging, optie 3, shorthand voor matmul\n",
    "a @ b"
   ]
  },
  {
   "cell_type": "markdown",
   "id": "e6ecbb48",
   "metadata": {},
   "source": [
    "# Lineaire regressie m.b.v. Gradient Descent"
   ]
  },
  {
   "cell_type": "code",
   "execution_count": null,
   "id": "08f675c4",
   "metadata": {},
   "outputs": [],
   "source": [
    "# We maken één feature en een value, op basis van een lineaire functie en wat ruis\n",
    "X = np.linspace(0, 10, 100)\n",
    "y = 3 + 2 * X + np.random.randn(100) # dus a (theta0) = 3 en b (theta1) = 2"
   ]
  },
  {
   "cell_type": "code",
   "execution_count": null,
   "id": "f9f66557",
   "metadata": {},
   "outputs": [],
   "source": [
    "plt.scatter(X, y, marker=\",\", s=1)"
   ]
  },
  {
   "cell_type": "code",
   "execution_count": null,
   "id": "15c5580e",
   "metadata": {},
   "outputs": [],
   "source": [
    "theta = np.array([[1.0, 1.0]])\n",
    "theta.shape"
   ]
  },
  {
   "cell_type": "code",
   "execution_count": null,
   "id": "d0394d1e",
   "metadata": {
    "scrolled": true
   },
   "outputs": [],
   "source": [
    "X = np.c_[np.ones(100), X]\n",
    "X.shape"
   ]
  },
  {
   "cell_type": "code",
   "execution_count": null,
   "id": "3ff909a6",
   "metadata": {
    "scrolled": true
   },
   "outputs": [],
   "source": [
    "y = np.array(y, ndmin=2)\n",
    "y = y.T\n",
    "y.shape"
   ]
  },
  {
   "cell_type": "code",
   "execution_count": null,
   "id": "b2858874",
   "metadata": {},
   "outputs": [],
   "source": [
    "y"
   ]
  },
  {
   "cell_type": "code",
   "execution_count": null,
   "id": "e50edb2c",
   "metadata": {},
   "outputs": [],
   "source": [
    "h = X @ theta.T\n",
    "h"
   ]
  },
  {
   "cell_type": "code",
   "execution_count": null,
   "id": "f27974f2",
   "metadata": {
    "scrolled": true
   },
   "outputs": [],
   "source": [
    "h.shape"
   ]
  },
  {
   "cell_type": "code",
   "execution_count": null,
   "id": "988f416c",
   "metadata": {},
   "outputs": [],
   "source": [
    "plt.scatter(X[:,1], y, marker=\",\", s=1, c=\"blue\")\n",
    "plt.scatter(X[:,1], h, marker=\",\", s=1, c=\"red\")"
   ]
  },
  {
   "cell_type": "code",
   "execution_count": null,
   "id": "5f1bc1ca",
   "metadata": {},
   "outputs": [],
   "source": [
    "d = h - y\n",
    "d"
   ]
  },
  {
   "cell_type": "code",
   "execution_count": null,
   "id": "e281f6dc",
   "metadata": {},
   "outputs": [],
   "source": [
    "d_squared = d ** 2\n",
    "d_squared"
   ]
  },
  {
   "cell_type": "code",
   "execution_count": null,
   "id": "ef579a6b",
   "metadata": {},
   "outputs": [],
   "source": [
    "theta = np.array([[1.0, 1.0]]).T # Initialiseer Theta\n",
    "\n",
    "m,n = X.shape # observaties\n",
    "num_iters = 1500\n",
    "alpha = 0.01\n",
    "\n",
    "for _ in range(num_iters):\n",
    "    # Bereken de error\n",
    "    h = X @ theta\n",
    "    d = h - y\n",
    "    \n",
    "    # Pas Theta aan\n",
    "    gradient = (X.T @ d) / m # voor beide kolommen van X wordt elke X-waarde met de corresponderende D-waarde vermenigvuldigd, en het geheel wordt opgeteld\n",
    "    # alternatief d.T @ X werkt ook, maar dan moet je gradient.T doen\n",
    "    theta -= gradient * alpha\n",
    "    print(theta)\n",
    "\n",
    "    # Bereken de Cost\n",
    "    d_squared_summed = d.T @ d\n",
    "    J = d_squared_summed / (2 * m)\n",
    "    print(J, \"\\n\")"
   ]
  },
  {
   "cell_type": "code",
   "execution_count": null,
   "id": "6d9858cc",
   "metadata": {},
   "outputs": [],
   "source": [
    "theta = np.linalg.inv(X.T.dot(X)).dot(X.T).dot(y)\n",
    "theta"
   ]
  },
  {
   "cell_type": "code",
   "execution_count": null,
   "id": "15210668",
   "metadata": {},
   "outputs": [],
   "source": []
  }
 ],
 "metadata": {
  "kernelspec": {
   "display_name": "Python 3",
   "language": "python",
   "name": "python3"
  },
  "language_info": {
   "codemirror_mode": {
    "name": "ipython",
    "version": 3
   },
   "file_extension": ".py",
   "mimetype": "text/x-python",
   "name": "python",
   "nbconvert_exporter": "python",
   "pygments_lexer": "ipython3",
   "version": "3.8.8"
  }
 },
 "nbformat": 4,
 "nbformat_minor": 5
}
