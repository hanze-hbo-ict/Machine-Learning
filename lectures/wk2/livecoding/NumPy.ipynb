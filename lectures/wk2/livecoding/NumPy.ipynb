{
 "cells": [
  {
   "cell_type": "markdown",
   "id": "ef592de0",
   "metadata": {},
   "source": [
    "# NumPy live coding Notebook"
   ]
  },
  {
   "cell_type": "markdown",
   "id": "c114822e",
   "metadata": {},
   "source": [
    "## NumPy arrays en matrices"
   ]
  },
  {
   "cell_type": "code",
   "execution_count": null,
   "id": "7c8d611f",
   "metadata": {},
   "outputs": [],
   "source": [
    "import numpy as np"
   ]
  },
  {
   "cell_type": "code",
   "execution_count": null,
   "id": "684cb455",
   "metadata": {},
   "outputs": [],
   "source": [
    "np.array([[1,2,3],[4,5,6]])"
   ]
  },
  {
   "cell_type": "code",
   "execution_count": null,
   "id": "77d6c160",
   "metadata": {},
   "outputs": [],
   "source": [
    "arr = np.array([[1,2,3],[4,5,6]])"
   ]
  },
  {
   "cell_type": "code",
   "execution_count": null,
   "id": "1590d507",
   "metadata": {
    "scrolled": true
   },
   "outputs": [],
   "source": [
    "arr"
   ]
  },
  {
   "cell_type": "markdown",
   "id": "3cc8b91f",
   "metadata": {},
   "source": [
    "## Shape en transponeren"
   ]
  },
  {
   "cell_type": "code",
   "execution_count": null,
   "id": "881fed6c",
   "metadata": {},
   "outputs": [],
   "source": [
    "arr.shape"
   ]
  },
  {
   "cell_type": "code",
   "execution_count": null,
   "id": "eb1cecd4",
   "metadata": {},
   "outputs": [],
   "source": [
    "arr.T"
   ]
  },
  {
   "cell_type": "code",
   "execution_count": null,
   "id": "96b12b65",
   "metadata": {},
   "outputs": [],
   "source": [
    "arr.T.shape"
   ]
  },
  {
   "cell_type": "markdown",
   "id": "548b117e",
   "metadata": {},
   "source": [
    "## Indexatie en slicing"
   ]
  },
  {
   "cell_type": "code",
   "execution_count": null,
   "id": "9a42a18f",
   "metadata": {},
   "outputs": [],
   "source": [
    "arr"
   ]
  },
  {
   "cell_type": "code",
   "execution_count": null,
   "id": "8e52a91a",
   "metadata": {},
   "outputs": [],
   "source": [
    "arr[0]"
   ]
  },
  {
   "cell_type": "code",
   "execution_count": null,
   "id": "37203d22",
   "metadata": {},
   "outputs": [],
   "source": [
    "arr[1,:]"
   ]
  },
  {
   "cell_type": "code",
   "execution_count": null,
   "id": "760cf173",
   "metadata": {},
   "outputs": [],
   "source": [
    "arr[1,1:2]"
   ]
  },
  {
   "cell_type": "code",
   "execution_count": null,
   "id": "ceead7ea",
   "metadata": {},
   "outputs": [],
   "source": [
    "arr[1,1:]"
   ]
  },
  {
   "cell_type": "markdown",
   "id": "629954fc",
   "metadata": {},
   "source": [
    "## arange, linspace, zeros, ones, eye"
   ]
  },
  {
   "cell_type": "code",
   "execution_count": null,
   "id": "f09b25ab",
   "metadata": {
    "scrolled": true
   },
   "outputs": [],
   "source": [
    "np.arange(0, 10, 1)"
   ]
  },
  {
   "cell_type": "code",
   "execution_count": null,
   "id": "aa6f4b3b",
   "metadata": {},
   "outputs": [],
   "source": [
    "np.arange(0, 10, 2)"
   ]
  },
  {
   "cell_type": "code",
   "execution_count": null,
   "id": "773ec2d9",
   "metadata": {},
   "outputs": [],
   "source": [
    "np.linspace(0, 9, 10)"
   ]
  },
  {
   "cell_type": "code",
   "execution_count": null,
   "id": "8f7d026d",
   "metadata": {},
   "outputs": [],
   "source": [
    "np.linspace(0, 9, 50)"
   ]
  },
  {
   "cell_type": "code",
   "execution_count": null,
   "id": "92f6559a",
   "metadata": {},
   "outputs": [],
   "source": [
    "np.zeros((2,3))"
   ]
  },
  {
   "cell_type": "code",
   "execution_count": null,
   "id": "6ae8573e",
   "metadata": {},
   "outputs": [],
   "source": [
    "np.ones((3,2))"
   ]
  },
  {
   "cell_type": "code",
   "execution_count": null,
   "id": "4dcbdc8b",
   "metadata": {},
   "outputs": [],
   "source": [
    "np.eye(3)"
   ]
  },
  {
   "cell_type": "markdown",
   "id": "f96448f5",
   "metadata": {},
   "source": [
    "## np.random"
   ]
  },
  {
   "cell_type": "code",
   "execution_count": null,
   "id": "3dd5c60f",
   "metadata": {
    "scrolled": true
   },
   "outputs": [],
   "source": [
    "rand_arr = np.random.rand(100, 4)\n",
    "rand_arr[:5,:]"
   ]
  },
  {
   "cell_type": "code",
   "execution_count": null,
   "id": "f5f1e8c8",
   "metadata": {},
   "outputs": [],
   "source": [
    "np.random.randn(5, 4)"
   ]
  },
  {
   "cell_type": "code",
   "execution_count": null,
   "id": "e379e436",
   "metadata": {},
   "outputs": [],
   "source": [
    "np.random.randint(0, 10, size=(5,4))"
   ]
  },
  {
   "cell_type": "markdown",
   "id": "e7b46112",
   "metadata": {},
   "source": [
    "## Vectoren"
   ]
  },
  {
   "cell_type": "code",
   "execution_count": null,
   "id": "33f0ecf9",
   "metadata": {},
   "outputs": [],
   "source": [
    "v = np.array([1,2,3,4])\n",
    "v"
   ]
  },
  {
   "cell_type": "code",
   "execution_count": null,
   "id": "e9ed816d",
   "metadata": {},
   "outputs": [],
   "source": [
    "v.shape"
   ]
  },
  {
   "cell_type": "code",
   "execution_count": null,
   "id": "afc6b680",
   "metadata": {},
   "outputs": [],
   "source": [
    "v2 = np.array([[1,2,3,4]])\n",
    "v2"
   ]
  },
  {
   "cell_type": "code",
   "execution_count": null,
   "id": "c41bf800",
   "metadata": {},
   "outputs": [],
   "source": [
    "v2.shape"
   ]
  },
  {
   "cell_type": "markdown",
   "id": "59a8fbed",
   "metadata": {},
   "source": [
    "## Element-wise operaties"
   ]
  },
  {
   "cell_type": "code",
   "execution_count": null,
   "id": "227c8bc3",
   "metadata": {},
   "outputs": [],
   "source": [
    "arr + 1"
   ]
  },
  {
   "cell_type": "code",
   "execution_count": null,
   "id": "79fa0b89",
   "metadata": {},
   "outputs": [],
   "source": [
    "arr * 2"
   ]
  },
  {
   "cell_type": "code",
   "execution_count": null,
   "id": "89519229",
   "metadata": {},
   "outputs": [],
   "source": [
    "arr2 = np.ones((2,3)) * 3\n",
    "arr2"
   ]
  },
  {
   "cell_type": "code",
   "execution_count": null,
   "id": "18dea70f",
   "metadata": {},
   "outputs": [],
   "source": [
    "arr * arr2"
   ]
  },
  {
   "cell_type": "code",
   "execution_count": null,
   "id": "058dd4bf",
   "metadata": {},
   "outputs": [],
   "source": [
    "arr3 = np.ones((2,2)) * 3\n",
    "arr * arr3"
   ]
  },
  {
   "cell_type": "markdown",
   "id": "c8c61f76",
   "metadata": {},
   "source": [
    "## Matrix-vermenigvuldiging"
   ]
  },
  {
   "cell_type": "code",
   "execution_count": null,
   "id": "7930cf9e",
   "metadata": {},
   "outputs": [],
   "source": [
    "arr4 = np.ones((3,2)) * 3\n",
    "arr @ arr4"
   ]
  },
  {
   "cell_type": "code",
   "execution_count": null,
   "id": "5f027c51",
   "metadata": {},
   "outputs": [],
   "source": [
    "np.matmul(arr, arr4)"
   ]
  },
  {
   "cell_type": "code",
   "execution_count": null,
   "id": "7df3fba0",
   "metadata": {},
   "outputs": [],
   "source": [
    "np.dot(arr, arr4)"
   ]
  },
  {
   "cell_type": "code",
   "execution_count": null,
   "id": "7b8a1e11",
   "metadata": {},
   "outputs": [],
   "source": [
    "v3 = np.array([3,3,3,3]).T\n",
    "np.dot(v2, v3)"
   ]
  },
  {
   "cell_type": "markdown",
   "id": "1fbe317a",
   "metadata": {},
   "source": [
    "## Pandas"
   ]
  },
  {
   "cell_type": "code",
   "execution_count": null,
   "id": "a29675ab",
   "metadata": {},
   "outputs": [],
   "source": [
    "import pandas as pd"
   ]
  },
  {
   "cell_type": "code",
   "execution_count": null,
   "id": "62d7631b",
   "metadata": {},
   "outputs": [],
   "source": [
    "my_dict = {'J':[1,4], 'F':[2,5], 'M':[3,6]}"
   ]
  },
  {
   "cell_type": "code",
   "execution_count": null,
   "id": "b936479e",
   "metadata": {},
   "outputs": [],
   "source": [
    "df = pd.DataFrame(my_dict,index=['C1','C2'])"
   ]
  },
  {
   "cell_type": "code",
   "execution_count": null,
   "id": "3052ec02",
   "metadata": {},
   "outputs": [],
   "source": [
    "df"
   ]
  },
  {
   "cell_type": "code",
   "execution_count": null,
   "id": "4cd245df",
   "metadata": {},
   "outputs": [],
   "source": [
    "df['F']"
   ]
  },
  {
   "cell_type": "code",
   "execution_count": null,
   "id": "138efe81-2d2b-44ef-9bb7-3133febd4866",
   "metadata": {},
   "outputs": [],
   "source": [
    "df.loc[:,'F']"
   ]
  },
  {
   "cell_type": "code",
   "execution_count": null,
   "id": "adcd2118-7130-494d-b9aa-70d4a9163c71",
   "metadata": {},
   "outputs": [],
   "source": [
    "df['C1']"
   ]
  },
  {
   "cell_type": "code",
   "execution_count": null,
   "id": "6e5aac59",
   "metadata": {},
   "outputs": [],
   "source": [
    "df.loc['C1']"
   ]
  },
  {
   "cell_type": "code",
   "execution_count": null,
   "id": "d8429cda-0495-4380-bee2-e1f61617edc4",
   "metadata": {},
   "outputs": [],
   "source": [
    "df.loc['C1',:]"
   ]
  },
  {
   "cell_type": "code",
   "execution_count": null,
   "id": "52bd860f",
   "metadata": {},
   "outputs": [],
   "source": [
    "df.iloc[0]"
   ]
  },
  {
   "cell_type": "code",
   "execution_count": null,
   "id": "4c823eb9",
   "metadata": {},
   "outputs": [],
   "source": [
    "arr = np.random.randn(100, 10)\n",
    "df2 = pd.DataFrame(arr, columns='A B C D E F G H I J'.split())\n",
    "df2.head()"
   ]
  },
  {
   "cell_type": "code",
   "execution_count": null,
   "id": "a6c6dcd2",
   "metadata": {},
   "outputs": [],
   "source": [
    "df2.to_csv('example')"
   ]
  },
  {
   "cell_type": "code",
   "execution_count": null,
   "id": "b2a5bfcd",
   "metadata": {
    "scrolled": true
   },
   "outputs": [],
   "source": [
    "df3 = pd.read_csv('example', index_col=0)\n",
    "df3.head()"
   ]
  },
  {
   "cell_type": "code",
   "execution_count": null,
   "id": "92f0cf5a",
   "metadata": {},
   "outputs": [],
   "source": [
    "df3.describe()"
   ]
  }
 ],
 "metadata": {
  "kernelspec": {
   "display_name": "Python 3 (ipykernel)",
   "language": "python",
   "name": "python3"
  },
  "language_info": {
   "codemirror_mode": {
    "name": "ipython",
    "version": 3
   },
   "file_extension": ".py",
   "mimetype": "text/x-python",
   "name": "python",
   "nbconvert_exporter": "python",
   "pygments_lexer": "ipython3",
   "version": "3.12.3"
  }
 },
 "nbformat": 4,
 "nbformat_minor": 5
}
