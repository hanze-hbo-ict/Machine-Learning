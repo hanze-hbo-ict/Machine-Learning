{
 "cells": [
  {
   "cell_type": "code",
   "execution_count": null,
   "id": "8e81fe1d-e6ad-4d43-9503-c97385fc26f1",
   "metadata": {},
   "outputs": [],
   "source": [
    "import numpy as np"
   ]
  },
  {
   "cell_type": "code",
   "execution_count": null,
   "id": "2a45e18f-3d50-4298-aebc-7b14e74a5db6",
   "metadata": {},
   "outputs": [],
   "source": [
    "m = 100000\n",
    "\n",
    "X = np.linspace(0, 10, m)\n",
    "y = 3 * X + 2 + np.random.randn(m)"
   ]
  },
  {
   "cell_type": "code",
   "execution_count": null,
   "id": "9c36b296-a337-420e-98ca-c289cbba8d70",
   "metadata": {},
   "outputs": [],
   "source": [
    "X.shape"
   ]
  },
  {
   "cell_type": "code",
   "execution_count": null,
   "id": "bef5771c-3888-4f66-bf81-e80b8c5e7c8d",
   "metadata": {},
   "outputs": [],
   "source": [
    "from matplotlib import pyplot as plt\n",
    "\n",
    "plt.scatter(X, y, s=0.1)\n",
    "plt.show()"
   ]
  },
  {
   "cell_type": "code",
   "execution_count": null,
   "id": "d11f96e4-47d1-4e0e-a9c7-1849f17850fc",
   "metadata": {},
   "outputs": [],
   "source": [
    "X = X.reshape((m,1))\n",
    "X = np.c_[np.ones((m,1)), X]\n",
    "\n",
    "y = y.reshape((m,1))"
   ]
  },
  {
   "cell_type": "code",
   "execution_count": null,
   "id": "981f2f7e-5f78-4d9b-a48d-2cf939d64659",
   "metadata": {},
   "outputs": [],
   "source": [
    "import time\n",
    "\n",
    "start = int(round(time.time() * 1000))\n",
    "theta = np.linalg.inv(X.T.dot(X)).dot(X.T).dot(y)\n",
    "end = int(round(time.time() * 1000))\n",
    "\n",
    "print(end - start)"
   ]
  },
  {
   "cell_type": "code",
   "execution_count": null,
   "id": "00e9542f-992e-4d8f-924d-88d22b7b5876",
   "metadata": {},
   "outputs": [],
   "source": [
    "theta.T"
   ]
  },
  {
   "cell_type": "code",
   "execution_count": null,
   "id": "65192325-cf83-451f-b5d2-9ff130101155",
   "metadata": {},
   "outputs": [],
   "source": [
    "start = int(round(time.time() * 1000))\n",
    "\n",
    "theta = np.random.randn(2)\n",
    "print(theta)\n",
    "\n",
    "for _ in range(1500):\n",
    "    predictions = X.dot(theta.T).reshape((m,1))\n",
    "    errors = predictions - y\n",
    "    gradient = np.sum(X.T @ errors) / m\n",
    "    theta -= 0.03 * gradient\n",
    "\n",
    "end = int(round(time.time() * 1000))\n",
    "\n",
    "print(end - start)\n",
    "\n",
    "print(theta)"
   ]
  }
 ],
 "metadata": {
  "kernelspec": {
   "display_name": "Python 3 (ipykernel)",
   "language": "python",
   "name": "python3"
  },
  "language_info": {
   "codemirror_mode": {
    "name": "ipython",
    "version": 3
   },
   "file_extension": ".py",
   "mimetype": "text/x-python",
   "name": "python",
   "nbconvert_exporter": "python",
   "pygments_lexer": "ipython3",
   "version": "3.12.3"
  }
 },
 "nbformat": 4,
 "nbformat_minor": 5
}
