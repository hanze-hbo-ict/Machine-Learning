{
 "cells": [
  {
   "cell_type": "code",
   "execution_count": null,
   "id": "534f022a",
   "metadata": {},
   "outputs": [],
   "source": [
    "import numpy as np\n",
    "import pandas as pd\n",
    "\n",
    "import matplotlib.pyplot as plt\n",
    "import seaborn as sns\n",
    "\n",
    "import tensorflow as tf"
   ]
  },
  {
   "cell_type": "code",
   "execution_count": null,
   "id": "73f4f2d8",
   "metadata": {},
   "outputs": [],
   "source": [
    "from sklearn.datasets import fetch_california_housing\n",
    "\n",
    "ds = fetch_california_housing()\n",
    "ds.DESCR"
   ]
  },
  {
   "cell_type": "code",
   "execution_count": null,
   "id": "6120dd72",
   "metadata": {},
   "outputs": [],
   "source": [
    "X = ds.data\n",
    "y = ds.target"
   ]
  },
  {
   "cell_type": "code",
   "execution_count": null,
   "id": "c5cbfc4a",
   "metadata": {},
   "outputs": [],
   "source": [
    "X.shape"
   ]
  },
  {
   "cell_type": "code",
   "execution_count": null,
   "id": "16bccfba",
   "metadata": {},
   "outputs": [],
   "source": [
    "y.shape"
   ]
  },
  {
   "cell_type": "code",
   "execution_count": null,
   "id": "57dc89fc",
   "metadata": {},
   "outputs": [],
   "source": [
    "from sklearn.model_selection import train_test_split\n",
    "\n",
    "X_train, X_test, y_train, y_test = train_test_split(X, y, test_size=0.3, random_state=101)"
   ]
  },
  {
   "cell_type": "code",
   "execution_count": null,
   "id": "9e9156ab",
   "metadata": {},
   "outputs": [],
   "source": [
    "from sklearn.preprocessing import StandardScaler\n",
    "\n",
    "scaler = StandardScaler()\n",
    "scaler.fit(X_train)\n",
    "\n",
    "X_train = scaler.transform(X_train)\n",
    "X_test = scaler.transform(X_test)"
   ]
  },
  {
   "cell_type": "code",
   "execution_count": null,
   "id": "d8891f4f",
   "metadata": {},
   "outputs": [],
   "source": [
    "from tensorflow.keras.models import Sequential\n",
    "help(Sequential)"
   ]
  },
  {
   "cell_type": "code",
   "execution_count": null,
   "id": "68f73d37",
   "metadata": {},
   "outputs": [],
   "source": [
    "from tensorflow.keras.layers import Input, Dense, Activation\n",
    "\n",
    "model = Sequential()\n",
    "\n",
    "model.add(Input(shape=(8,)))           # 8 features, so 8 inputs\n",
    "model.add(Dense(8, activation='relu')) # first layer\n",
    "model.add(Dense(4, activation='relu')) # hidden layer\n",
    "model.add(Dense(1))                    # output layer, 1 output (predicted value)\n",
    "\n",
    "model.compile(optimizer='adam', loss='mse')\n",
    "\n",
    "model.summary()"
   ]
  },
  {
   "cell_type": "code",
   "execution_count": null,
   "id": "37400da2",
   "metadata": {},
   "outputs": [],
   "source": [
    "model.fit(X_train, y_train, epochs=50, verbose=1)"
   ]
  },
  {
   "cell_type": "code",
   "execution_count": null,
   "id": "d68708fa",
   "metadata": {},
   "outputs": [],
   "source": [
    "loss = model.history.history['loss']"
   ]
  },
  {
   "cell_type": "code",
   "execution_count": null,
   "id": "009b5f2d",
   "metadata": {},
   "outputs": [],
   "source": [
    "sns.lineplot(x=range(len(loss)), y=loss)\n",
    "plt.title(\"Cost per Epoch\");"
   ]
  },
  {
   "cell_type": "code",
   "execution_count": null,
   "id": "847ebfc4",
   "metadata": {},
   "outputs": [],
   "source": [
    "model.evaluate(X_test, y_test, verbose=0) # gives MSE on test data"
   ]
  },
  {
   "cell_type": "code",
   "execution_count": null,
   "id": "e20fed49",
   "metadata": {},
   "outputs": [],
   "source": [
    "predictions = model.predict(X_test)"
   ]
  },
  {
   "cell_type": "code",
   "execution_count": null,
   "id": "dbcce4d4",
   "metadata": {},
   "outputs": [],
   "source": [
    "predictions_df = pd.DataFrame(y_test, columns=['Actual value'])\n",
    "predictions = pd.Series(predictions.reshape(predictions.shape[0],))\n",
    "predictions_df = pd.concat([predictions_df, predictions], axis=1)\n",
    "predictions_df.columns = ['Actual value', 'Prediction']\n",
    "predictions_df['Error'] = predictions_df['Prediction'] - predictions_df['Actual value']\n",
    "predictions_df['AbsError'] = predictions_df['Error'].abs()\n",
    "predictions_df.head()"
   ]
  },
  {
   "cell_type": "code",
   "execution_count": null,
   "id": "af29bb6e",
   "metadata": {},
   "outputs": [],
   "source": [
    "fig, ax = plt.subplots()\n",
    "sns.scatterplot(x='Actual value', y='Prediction', data=predictions_df, ax=ax)\n",
    "ax.set_ylim(0,5)\n",
    "ax.set_yticks(range(0,5))"
   ]
  },
  {
   "cell_type": "code",
   "execution_count": null,
   "id": "4368c21a",
   "metadata": {},
   "outputs": [],
   "source": [
    "sns.histplot(predictions_df['Error'], bins=100, kde=True)"
   ]
  },
  {
   "cell_type": "code",
   "execution_count": null,
   "id": "254b2fef",
   "metadata": {},
   "outputs": [],
   "source": [
    "from sklearn.metrics import mean_squared_error\n",
    "mean_squared_error(predictions_df['Actual value'], predictions_df['Prediction']) # should match MSE given by model.evaluate()"
   ]
  },
  {
   "cell_type": "code",
   "execution_count": null,
   "id": "253f3892",
   "metadata": {},
   "outputs": [],
   "source": [
    "predictions_df['AbsError'].mean()"
   ]
  },
  {
   "cell_type": "code",
   "execution_count": null,
   "id": "992255b0",
   "metadata": {},
   "outputs": [],
   "source": [
    "from sklearn.metrics import mean_absolute_error\n",
    "mean_absolute_error(predictions_df['Actual value'], predictions_df['Prediction']) # should match MAE in cell above"
   ]
  }
 ],
 "metadata": {
  "kernelspec": {
   "display_name": "Python 3 (ipykernel)",
   "language": "python",
   "name": "python3"
  },
  "language_info": {
   "codemirror_mode": {
    "name": "ipython",
    "version": 3
   },
   "file_extension": ".py",
   "mimetype": "text/x-python",
   "name": "python",
   "nbconvert_exporter": "python",
   "pygments_lexer": "ipython3",
   "version": "3.12.3"
  }
 },
 "nbformat": 4,
 "nbformat_minor": 5
}
