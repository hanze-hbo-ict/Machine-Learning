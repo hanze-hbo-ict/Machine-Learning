{
 "cells": [
  {
   "cell_type": "code",
   "execution_count": null,
   "id": "0a453b28",
   "metadata": {},
   "outputs": [],
   "source": [
    "import pandas as pd\n",
    "import numpy as np\n",
    "import time\n",
    "from sklearn.svm import SVC\n",
    "import matplotlib.pyplot as plt\n",
    "%matplotlib inline"
   ]
  },
  {
   "cell_type": "code",
   "execution_count": null,
   "id": "11ed3d6b",
   "metadata": {},
   "outputs": [],
   "source": [
    "from sklearn.datasets import load_breast_cancer\n",
    "\n",
    "dataset = load_breast_cancer()\n",
    "X, y = dataset.data, dataset.target"
   ]
  },
  {
   "cell_type": "markdown",
   "id": "377a2ac0",
   "metadata": {},
   "source": [
    "# GridSearch"
   ]
  },
  {
   "cell_type": "code",
   "execution_count": null,
   "id": "fe97caa8",
   "metadata": {},
   "outputs": [],
   "source": [
    "from sklearn.model_selection import GridSearchCV\n",
    "\n",
    "param_grid = {\n",
    "    'C': [0.01, 0.1, 1, 10, 100, 1000],\n",
    "    'degree': np.arange(0, 11)\n",
    "}\n",
    "\n",
    "grid_search = GridSearchCV(SVC(kernel='poly'), param_grid=param_grid, cv=3, verbose=2)"
   ]
  },
  {
   "cell_type": "code",
   "execution_count": null,
   "id": "9040ae10",
   "metadata": {},
   "outputs": [],
   "source": [
    "start_time = time.time()\n",
    "grid_search.fit(X, y)\n",
    "time_normal_gs = time.time() - start_time"
   ]
  },
  {
   "cell_type": "code",
   "execution_count": null,
   "id": "005f8db4",
   "metadata": {},
   "outputs": [],
   "source": [
    "grid_search.best_score_"
   ]
  },
  {
   "cell_type": "code",
   "execution_count": null,
   "id": "dbb0fab7",
   "metadata": {},
   "outputs": [],
   "source": [
    "grid_search.best_params_"
   ]
  },
  {
   "cell_type": "code",
   "execution_count": null,
   "id": "6e572cdd",
   "metadata": {},
   "outputs": [],
   "source": [
    "gs_results = pd.DataFrame(grid_search.cv_results_)\n",
    "gs_results.sort_values(by='mean_test_score', ascending=False, inplace=True)\n",
    "gs_results.head()"
   ]
  },
  {
   "cell_type": "code",
   "execution_count": null,
   "id": "2cf9f5b9",
   "metadata": {},
   "outputs": [],
   "source": [
    "from sklearn.metrics import ConfusionMatrixDisplay\n",
    "\n",
    "ConfusionMatrixDisplay.from_estimator(grid_search, X, y)"
   ]
  },
  {
   "cell_type": "markdown",
   "id": "fa8ce196",
   "metadata": {},
   "source": [
    "# Halving Grid Search"
   ]
  },
  {
   "cell_type": "code",
   "execution_count": null,
   "id": "4e1f5cb7",
   "metadata": {},
   "outputs": [],
   "source": [
    "from sklearn.experimental import enable_halving_search_cv\n",
    "from sklearn.model_selection import HalvingGridSearchCV\n",
    "\n",
    "halving_grid_search = HalvingGridSearchCV(SVC(kernel='poly'), param_grid=param_grid, cv=3, verbose=2)\n",
    "\n",
    "start_time = time.time()\n",
    "halving_grid_search.fit(X, y)\n",
    "time_halving_gs = time.time() - start_time"
   ]
  },
  {
   "cell_type": "code",
   "execution_count": null,
   "id": "d6fa3112",
   "metadata": {},
   "outputs": [],
   "source": [
    "halving_grid_search.best_score_"
   ]
  },
  {
   "cell_type": "code",
   "execution_count": null,
   "id": "ff2090d9",
   "metadata": {},
   "outputs": [],
   "source": [
    "halving_grid_search.best_params_"
   ]
  },
  {
   "cell_type": "code",
   "execution_count": null,
   "id": "0a11dff7",
   "metadata": {},
   "outputs": [],
   "source": [
    "print(f\"Doorlooptijd normale GS: {time_normal_gs}\")\n",
    "print(f\"Doorlooptijd halving GS: {time_halving_gs}\")"
   ]
  },
  {
   "cell_type": "markdown",
   "id": "ddda34b9",
   "metadata": {},
   "source": [
    "# Randomized Search"
   ]
  },
  {
   "cell_type": "code",
   "execution_count": null,
   "id": "e1f17153",
   "metadata": {},
   "outputs": [],
   "source": [
    "from sklearn.model_selection import RandomizedSearchCV\n",
    "\n",
    "param_distribs = {\n",
    "    'C': np.linspace(0, 1000, 10000),\n",
    "    'degree': np.arange(0, 11)\n",
    "}\n",
    "\n",
    "rand_search = RandomizedSearchCV(SVC(kernel='poly'), param_distributions=param_distribs, n_iter=10, cv=3, verbose=2)\n",
    "rand_search.fit(X, y)"
   ]
  },
  {
   "cell_type": "code",
   "execution_count": null,
   "id": "e4bdb462",
   "metadata": {},
   "outputs": [],
   "source": [
    "rand_search.best_score_"
   ]
  },
  {
   "cell_type": "code",
   "execution_count": null,
   "id": "263ef618",
   "metadata": {},
   "outputs": [],
   "source": [
    "rand_search.best_params_"
   ]
  },
  {
   "cell_type": "code",
   "execution_count": null,
   "id": "8385e091",
   "metadata": {},
   "outputs": [],
   "source": [
    "rs_results = pd.DataFrame(rand_search.cv_results_)\n",
    "rs_results.sort_values(by='mean_test_score', ascending=False, inplace=True)\n",
    "rs_results.head()"
   ]
  },
  {
   "cell_type": "code",
   "execution_count": null,
   "id": "53ae572e",
   "metadata": {},
   "outputs": [],
   "source": [
    "ConfusionMatrixDisplay.from_estimator(rand_search, X, y)"
   ]
  }
 ],
 "metadata": {
  "kernelspec": {
   "display_name": "Python 3 (ipykernel)",
   "language": "python",
   "name": "python3"
  },
  "language_info": {
   "codemirror_mode": {
    "name": "ipython",
    "version": 3
   },
   "file_extension": ".py",
   "mimetype": "text/x-python",
   "name": "python",
   "nbconvert_exporter": "python",
   "pygments_lexer": "ipython3",
   "version": "3.12.3"
  }
 },
 "nbformat": 4,
 "nbformat_minor": 5
}
