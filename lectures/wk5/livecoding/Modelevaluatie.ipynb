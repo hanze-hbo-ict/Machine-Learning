{
 "cells": [
  {
   "cell_type": "code",
   "execution_count": null,
   "id": "f75b1c39",
   "metadata": {},
   "outputs": [],
   "source": [
    "import numpy as np\n",
    "import pandas as pd\n",
    "import matplotlib.pyplot as plt\n",
    "\n",
    "from sklearn.datasets import load_iris\n",
    "\n",
    "%matplotlib inline"
   ]
  },
  {
   "cell_type": "markdown",
   "id": "7ef43b3b",
   "metadata": {},
   "source": [
    "## Data-preparatie"
   ]
  },
  {
   "cell_type": "code",
   "execution_count": null,
   "id": "d87c1879",
   "metadata": {},
   "outputs": [],
   "source": [
    "ds = load_iris()\n",
    "ds.DESCR"
   ]
  },
  {
   "cell_type": "code",
   "execution_count": null,
   "id": "2f5fa61d",
   "metadata": {},
   "outputs": [],
   "source": [
    "X = ds.data\n",
    "X.shape"
   ]
  },
  {
   "cell_type": "code",
   "execution_count": null,
   "id": "6e1fa1aa",
   "metadata": {},
   "outputs": [],
   "source": [
    "y = ds.target\n",
    "y = y == 1\n",
    "y.shape"
   ]
  },
  {
   "cell_type": "code",
   "execution_count": null,
   "id": "fe20ba5d",
   "metadata": {},
   "outputs": [],
   "source": [
    "from sklearn.model_selection import train_test_split\n",
    "\n",
    "X_train, X_test, y_train, y_test = train_test_split(X, y, test_size=0.3, random_state=101)"
   ]
  },
  {
   "cell_type": "code",
   "execution_count": null,
   "id": "83ceda29",
   "metadata": {},
   "outputs": [],
   "source": [
    "from sklearn.preprocessing import StandardScaler\n",
    "\n",
    "scaler = StandardScaler()\n",
    "\n",
    "scaler.fit(X_train)\n",
    "X_train = scaler.transform(X_train)\n",
    "X_test = scaler.transform(X_test)"
   ]
  },
  {
   "cell_type": "markdown",
   "id": "fc299413",
   "metadata": {},
   "source": [
    "## We trainen een logistisch regressiemodel"
   ]
  },
  {
   "cell_type": "code",
   "execution_count": null,
   "id": "1e37581c",
   "metadata": {},
   "outputs": [],
   "source": [
    "from sklearn.linear_model import LogisticRegression\n",
    "\n",
    "log_reg = LogisticRegression()\n",
    "log_reg.fit(X_train, y_train)"
   ]
  },
  {
   "cell_type": "code",
   "execution_count": null,
   "id": "d45d57be",
   "metadata": {},
   "outputs": [],
   "source": [
    "y_pred = log_reg.predict(X_test)"
   ]
  },
  {
   "cell_type": "code",
   "execution_count": null,
   "id": "9abeba12",
   "metadata": {},
   "outputs": [],
   "source": [
    "from sklearn.metrics import confusion_matrix\n",
    "\n",
    "cm = confusion_matrix(y_test, y_pred)\n",
    "cm"
   ]
  },
  {
   "cell_type": "code",
   "execution_count": null,
   "id": "0fea0fae",
   "metadata": {},
   "outputs": [],
   "source": [
    "from sklearn.metrics import ConfusionMatrixDisplay\n",
    "\n",
    "disp = ConfusionMatrixDisplay(confusion_matrix=cm)\n",
    "disp.plot()"
   ]
  },
  {
   "cell_type": "code",
   "execution_count": null,
   "id": "0a88d1a2",
   "metadata": {},
   "outputs": [],
   "source": [
    "from sklearn.metrics import precision_score, recall_score, f1_score\n",
    "\n",
    "print(precision_score(y_test, y_pred))\n",
    "print(recall_score(y_test, y_pred))\n",
    "print(f1_score(y_test, y_pred))"
   ]
  },
  {
   "cell_type": "markdown",
   "id": "8457032b",
   "metadata": {},
   "source": [
    "## En nog een tweede model, een SVC"
   ]
  },
  {
   "cell_type": "code",
   "execution_count": null,
   "id": "43e54dc7",
   "metadata": {},
   "outputs": [],
   "source": [
    "from sklearn.svm import SVC\n",
    "\n",
    "svc = SVC()\n",
    "svc.fit(X_train, y_train)\n",
    "y_pred_svc = svc.predict(X_test)\n",
    "cm_svc = confusion_matrix(y_test, y_pred_svc)\n",
    "cm_svc"
   ]
  },
  {
   "cell_type": "markdown",
   "id": "fecda93e",
   "metadata": {},
   "source": [
    "## Tot slot plotten we de beide ROC-curves"
   ]
  },
  {
   "cell_type": "code",
   "execution_count": null,
   "id": "d5551ce2",
   "metadata": {},
   "outputs": [],
   "source": [
    "from sklearn.metrics import roc_curve, auc, RocCurveDisplay\n",
    "\n",
    "fig,ax = plt.subplots()\n",
    "\n",
    "plt.plot([0,1], [0,1], color='red', linestyle='--')\n",
    "\n",
    "fpr, tpr, thresholds = roc_curve(y_test, y_pred)\n",
    "roc_auc = auc(fpr, tpr)\n",
    "disp = RocCurveDisplay(fpr=fpr, tpr=tpr, roc_auc=roc_auc, estimator_name='Logistic Regression')\n",
    "disp.plot(ax=ax)\n",
    "\n",
    "fpr, tpr, thresholds = roc_curve(y_test, y_pred_svc)\n",
    "roc_auc = auc(fpr, tpr)\n",
    "disp = RocCurveDisplay(fpr=fpr, tpr=tpr, roc_auc=roc_auc, estimator_name='Support Vector Classifier')\n",
    "disp.plot(ax=ax)"
   ]
  }
 ],
 "metadata": {
  "kernelspec": {
   "display_name": "Python 3 (ipykernel)",
   "language": "python",
   "name": "python3"
  },
  "language_info": {
   "codemirror_mode": {
    "name": "ipython",
    "version": 3
   },
   "file_extension": ".py",
   "mimetype": "text/x-python",
   "name": "python",
   "nbconvert_exporter": "python",
   "pygments_lexer": "ipython3",
   "version": "3.10.1"
  }
 },
 "nbformat": 4,
 "nbformat_minor": 5
}
