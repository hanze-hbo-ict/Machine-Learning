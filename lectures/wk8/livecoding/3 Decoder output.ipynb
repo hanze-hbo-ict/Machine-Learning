{
 "cells": [
  {
   "cell_type": "code",
   "execution_count": null,
   "id": "cb4dbc91-0fe1-46ba-bf64-a54e664430cd",
   "metadata": {},
   "outputs": [],
   "source": [
    "import warnings\n",
    "warnings.filterwarnings('ignore')\n",
    "\n",
    "from transformers import AutoModelForCausalLM, AutoTokenizer\n",
    "import torch"
   ]
  },
  {
   "cell_type": "code",
   "execution_count": null,
   "id": "ab32e4eb-b116-4464-831d-d7033bcebb8e",
   "metadata": {},
   "outputs": [],
   "source": [
    "device = \"mps\"\n",
    "\n",
    "# Load model and tokenizer\n",
    "tokenizer = AutoTokenizer.from_pretrained(\"microsoft/Phi-3-mini-4k-instruct\")\n",
    "\n",
    "model = AutoModelForCausalLM.from_pretrained(\n",
    "    \"microsoft/Phi-3-mini-4k-instruct\",\n",
    "    device_map=device,\n",
    "    torch_dtype=\"auto\",\n",
    "    trust_remote_code=False,\n",
    ")"
   ]
  },
  {
   "cell_type": "code",
   "execution_count": null,
   "id": "a44b5de6-0288-4184-ad87-497f144109fe",
   "metadata": {},
   "outputs": [],
   "source": [
    "prompt = \"The capital of France is\"\n",
    "\n",
    "# Tokenize the input prompt\n",
    "input_ids = tokenizer(prompt, return_tensors=\"pt\").input_ids.to(device)\n",
    "\n",
    "# Get the output of the model before the lm_head and calculate the output of the lm_head ourselves\n",
    "model_output = model.model(input_ids)\n",
    "lm_head_output = model.lm_head(model_output[0])\n",
    "print(\"Output size:\", lm_head_output.shape) # gives a vector of probabilities for each input token\n",
    "\n",
    "# Find and print top-10\n",
    "values, indices = torch.topk(lm_head_output[0, -1], k=10) # -1 because we're only interested in the last token's output\n",
    "print(\"Values (probabilities):\", values)\n",
    "print(\"Corresponding indices: \", indices)\n",
    "for index in indices:\n",
    "    print(tokenizer.decode(index), end=\" \")"
   ]
  }
 ],
 "metadata": {
  "kernelspec": {
   "display_name": "Python 3 (ipykernel)",
   "language": "python",
   "name": "python3"
  },
  "language_info": {
   "codemirror_mode": {
    "name": "ipython",
    "version": 3
   },
   "file_extension": ".py",
   "mimetype": "text/x-python",
   "name": "python",
   "nbconvert_exporter": "python",
   "pygments_lexer": "ipython3",
   "version": "3.13.3"
  }
 },
 "nbformat": 4,
 "nbformat_minor": 5
}
