{
 "cells": [
  {
   "cell_type": "code",
   "execution_count": null,
   "id": "4e8be369-8508-426a-b404-2411cbff62e2",
   "metadata": {},
   "outputs": [],
   "source": [
    "import warnings\n",
    "warnings.filterwarnings('ignore')\n",
    "\n",
    "from transformers import pipeline\n",
    "from datasets import load_dataset\n",
    "import numpy as np\n",
    "from tqdm import tqdm\n",
    "from transformers.pipelines.pt_utils import KeyDataset"
   ]
  },
  {
   "cell_type": "code",
   "execution_count": null,
   "id": "1aaf0f14-1c28-4b99-ab97-49dc5a844547",
   "metadata": {},
   "outputs": [],
   "source": [
    "def evaluate_performance(y_true, y_pred):\n",
    "    \"\"\"Create and print the classification report\"\"\"\n",
    "\n",
    "    from sklearn.metrics import confusion_matrix, classification_report\n",
    "\n",
    "    print(confusion_matrix(y_true, y_pred))\n",
    "\n",
    "    performance = classification_report(\n",
    "        y_true, y_pred,\n",
    "        target_names=[\"Negative Review\", \"Positive Review\"]\n",
    "    )\n",
    "    print(performance)"
   ]
  },
  {
   "cell_type": "code",
   "execution_count": null,
   "id": "5cb9467c-530a-4c3f-8276-c0bf6202fb27",
   "metadata": {},
   "outputs": [],
   "source": [
    "# Load our data\n",
    "data = load_dataset(\"rotten_tomatoes\")\n",
    "\n",
    "print(data[\"test\"].shape)\n",
    "\n",
    "print(\"First 5 reviews + labels:\")\n",
    "for i in range(5):\n",
    "    print(data[\"test\"][i])\n",
    "\n",
    "print(\"Last 5 reviews + labels:\")\n",
    "for i in range(5):\n",
    "    print(data[\"test\"][-i-1])"
   ]
  },
  {
   "cell_type": "code",
   "execution_count": null,
   "id": "6a4eec42-6ac4-4bfb-aafa-af2f7371657d",
   "metadata": {},
   "outputs": [],
   "source": [
    "# Path to our HF model\n",
    "model = \"cardiffnlp/twitter-roberta-base-sentiment-latest\"\n",
    "\n",
    "# Load model into pipeline\n",
    "pipe = pipeline(\n",
    "    model=model,\n",
    "    tokenizer=model,\n",
    "    return_all_scores=True,\n",
    "    device=\"mps\"\n",
    ")"
   ]
  },
  {
   "cell_type": "code",
   "execution_count": null,
   "id": "c89c77c3-5bf0-46cb-bc1d-18bfc4047c59",
   "metadata": {
    "scrolled": true
   },
   "outputs": [],
   "source": [
    "# Run inference\n",
    "y_pred = []\n",
    "for output in tqdm(pipe(KeyDataset(data[\"test\"], \"text\")), total=len(data[\"test\"])):\n",
    "    negative_score = output[0][\"score\"]\n",
    "    positive_score = output[2][\"score\"]\n",
    "    assignment = np.argmax([negative_score, positive_score])\n",
    "    y_pred.append(assignment)"
   ]
  },
  {
   "cell_type": "code",
   "execution_count": null,
   "id": "8f63cb2d-9b6e-4ab7-816c-8d7b2c253c5e",
   "metadata": {},
   "outputs": [],
   "source": [
    "evaluate_performance(data[\"test\"][\"label\"], y_pred)"
   ]
  },
  {
   "cell_type": "code",
   "execution_count": null,
   "id": "2cfa4569-385a-48c3-8ef6-634bb58f8434",
   "metadata": {},
   "outputs": [],
   "source": [
    "print(y_pred[0:5])"
   ]
  },
  {
   "cell_type": "code",
   "execution_count": null,
   "id": "c35e31f2-6431-4ca6-848c-58e60b1affe0",
   "metadata": {},
   "outputs": [],
   "source": [
    "print(y_pred[-5:])"
   ]
  }
 ],
 "metadata": {
  "kernelspec": {
   "display_name": "Python 3 (ipykernel)",
   "language": "python",
   "name": "python3"
  },
  "language_info": {
   "codemirror_mode": {
    "name": "ipython",
    "version": 3
   },
   "file_extension": ".py",
   "mimetype": "text/x-python",
   "name": "python",
   "nbconvert_exporter": "python",
   "pygments_lexer": "ipython3",
   "version": "3.13.3"
  }
 },
 "nbformat": 4,
 "nbformat_minor": 5
}
